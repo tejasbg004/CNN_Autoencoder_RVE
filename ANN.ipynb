{
 "cells": [
  {
   "cell_type": "code",
   "execution_count": 50,
   "id": "353efa1d",
   "metadata": {},
   "outputs": [],
   "source": [
    "import torch\n",
    "\n",
    "#from ignite.metrics import MeanAbsoluteRelativeError\n",
    "\n",
    "import torch.nn as nn\n",
    "import numpy as np\n",
    "import sklearn as skl\n",
    "import matplotlib.pyplot as plt\n",
    "import shutil\n",
    "from sklearn.model_selection import train_test_split\n",
    "from sklearn.preprocessing import MinMaxScaler\n",
    "from joblib import dump,load\n",
    "import time\n",
    "from sklearn.metrics import r2_score\n",
    "from sklearn.metrics import mean_squared_error\n",
    "from sklearn.metrics import mean_absolute_percentage_error\n",
    "from scipy.io import loadmat\n",
    "import scipy.io\n",
    "'''\n",
    "from google.colab import drive\n",
    "drive.mount('/content/drive')'''\n",
    "\n",
    "global device, print_freq\n",
    "device = torch.device('cuda')"
   ]
  },
  {
   "cell_type": "code",
   "execution_count": 51,
   "id": "325c6b0d",
   "metadata": {},
   "outputs": [],
   "source": [
    "class MyDataset(torch.utils.data.Dataset):\n",
    "\n",
    "    def __init__(self, inp, out):\n",
    "        self.inp = inp\n",
    "        self.out = out\n",
    "\n",
    "    def __len__(self):\n",
    "        return self.inp.shape[0]\n",
    "\n",
    "    def __getitem__(self, index):\n",
    "        return self.inp[index], self.out[index]\n",
    "\n",
    "class MyDataset2(torch.utils.data.Dataset):\n",
    "\n",
    "    def __init__(self, inp):\n",
    "        self.inp = inp\n",
    "\n",
    "    def __len__(self):\n",
    "        return self.inp.shape[0]\n",
    "\n",
    "    def __getitem__(self, index):\n",
    "        return self.inp[index]\n",
    "\n",
    "\n",
    "class AverageMeter(object):\n",
    "    # Computes and stores the average and current value\n",
    "\n",
    "    def __init__(self):\n",
    "        self.reset()\n",
    "\n",
    "    def reset(self):\n",
    "        self.val = 0\n",
    "        self.avg = 0\n",
    "        self.sum = 0\n",
    "        self.count = 0\n",
    "\n",
    "    def update(self, val, n=1):\n",
    "        self.val = val\n",
    "        self.sum += val * n\n",
    "        self.count += n\n",
    "        self.avg = self.sum / self.count"
   ]
  },
  {
   "cell_type": "code",
   "execution_count": 52,
   "id": "a58179d2",
   "metadata": {},
   "outputs": [],
   "source": [
    "def train_step(train_loader, model, criterion, optimizer, epoch, net_info):\n",
    "    batch_time = AverageMeter()\n",
    "    data_time = AverageMeter()\n",
    "    losses = AverageMeter()\n",
    "\n",
    "    # switch to train mode\n",
    "    model.train()\n",
    "\n",
    "    end = time.time()\n",
    "    for i, (input, target) in enumerate(train_loader):\n",
    "        # measure data loading time\n",
    "        data_time.update(time.time() - end)\n",
    "\n",
    "        input = input.to(device)\n",
    "        target = target.to(device)\n",
    "\n",
    "        # compute output\n",
    "        output = model(input)\n",
    "        \n",
    "     \n",
    "        loss = criterion(output, target)\n",
    "\n",
    "        # measure accuracy and record loss\n",
    "        losses.update(loss.item(), input.size(0))\n",
    "\n",
    "        # compute gradient and do the SGD step\n",
    "        optimizer.zero_grad()\n",
    "        loss.backward(retain_graph=True)\n",
    "\n",
    "        # torch.nn.utils.clip_grad_norm_(model.parameters(), 0.1)\n",
    "        optimizer.step()\n",
    "\n",
    "        # measure elapsed time\n",
    "        batch_time.update(time.time() - end)\n",
    "        end = time.time()\n",
    "\n",
    "        if epoch % 25 == 0:\n",
    "\n",
    "            if i % print_freq == 0:\n",
    "                curr_lr = optimizer.param_groups[0]['lr']\n",
    "                print('Epoch: [{0}/{1}][{2}/{3}]\\t'\n",
    "                    'LR: {4}\\t'\n",
    "                    'Time {batch_time.val:.3f} ({batch_time.avg:.3f})\\t'\n",
    "                    'Data {data_time.val:.3f} ({data_time.avg:.3f})\\t'\n",
    "                    'Loss {loss.val:.7f} ({loss.avg:.6f})\\t'.format(\n",
    "                    epoch, net_info['epochs'], i, len(train_loader), curr_lr,\n",
    "                    batch_time=batch_time, data_time=data_time, loss=losses))\n",
    "\n",
    "    return losses.avg\n",
    "\n",
    "\n",
    "def test_step(val_loader, model, criterion, epoch):\n",
    "    batch_time = AverageMeter()\n",
    "    losses = AverageMeter()\n",
    "    # violation = AverageMeter()\n",
    "\n",
    "    # switch to evaluate mode\n",
    "    model.eval()\n",
    "\n",
    "    end = time.time()\n",
    "    for i, (input, target) in enumerate(val_loader):\n",
    "\n",
    "        input = input.to(device)\n",
    "        target = target.to(device)\n",
    "\n",
    "        # compute output\n",
    "        output = model(input)\n",
    "\n",
    "        loss = criterion(output, target)\n",
    "\n",
    "        # measure accuracy and record loss\n",
    "        losses.update(loss.item(), input.size(0))\n",
    "\n",
    "        # measure elapsed time\n",
    "        batch_time.update(time.time() - end)\n",
    "        end = time.time()\n",
    "\n",
    "        if epoch % 25 == 0:\n",
    "            if i % print_freq == 0:\n",
    "                print('Test: [{0}/{1}]\\t'\n",
    "                    'Time {batch_time.val:.3f} ({batch_time.avg:.3f})\\t'\n",
    "                    'Loss {loss.val:.7f} ({loss.avg:.4f})\\t'.format(\n",
    "                    i, len(val_loader), batch_time=batch_time, loss=losses))\n",
    "\n",
    "    return losses.avg"
   ]
  },
  {
   "cell_type": "code",
   "execution_count": 53,
   "id": "6f1417f9",
   "metadata": {},
   "outputs": [],
   "source": [
    "def save_checkpoint(state, is_best, filename='checkpoint.pth.tar'):\n",
    "    torch.save(state, filename)\n",
    "    if is_best:\n",
    "        shutil.copyfile(filename, 'model_best_ANN.pth.tar')\n",
    "\n",
    "\n",
    "def train_NN(model, net_info, train_loader, test_loader):\n",
    "    epochs = net_info['epochs']\n",
    "    train_losses = np.empty([epochs, 1])\n",
    "    test_losses = np.empty([epochs, 1])\n",
    "\n",
    "    min_loss = 1e4\n",
    "\n",
    "    # In this case, we should use the binary cross-entropy as the loss function\n",
    "    lossfun = nn.MSELoss()\n",
    "    optimizer = torch.optim.Adam(model.parameters(), lr=net_info['lr0'],weight_decay=1e-5)\n",
    "\n",
    "    for epoch in range(epochs):\n",
    "        # adjust learning rate\n",
    "        if epoch >= 50:\n",
    "            if epoch % 50 == 0:\n",
    "                for param_group in optimizer.param_groups:\n",
    "                    param_group['lr'] *= net_info['lr_decay']\n",
    "\n",
    "        # train for one epoch\n",
    "        train_losses_temp = train_step(train_loader, model, lossfun, optimizer, epoch, net_info)\n",
    "        train_losses[epoch] = train_losses_temp\n",
    "\n",
    "        # evaluate on test set\n",
    "        test_losses_temp = test_step(test_loader, model, lossfun, epoch)\n",
    "        test_losses[epoch] = test_losses_temp\n",
    "\n",
    "        # remember the best test set performance and save checkpoint\n",
    "        is_best = test_losses[epoch] < min_loss\n",
    "        min_loss = min(test_losses[epoch], min_loss)\n",
    "        save_checkpoint({\n",
    "            'epoch': epoch + 1,\n",
    "            'state_dict': model.state_dict(),\n",
    "            'min_loss': min_loss,\n",
    "            'optimizer': optimizer.state_dict(),\n",
    "        }, is_best)\n",
    "\n",
    "    test_losses.tofile('val_loss' + str(net_info['train_size']) + '2l50h.csv', sep=\",\", format=\"%10.5f\")\n",
    "    train_losses.tofile('train_loss' + str(net_info['train_size']) + '2l50h.csv', sep=\",\", format=\"%10.5f\")\n",
    "\n",
    "    # plot training/test loss\n",
    "    plt.figure(figsize=(5, 3.5))\n",
    "    plt.plot(train_losses, label='training')\n",
    "    plt.plot(test_losses, '--', label='test')\n",
    "    plt.xlabel('epoch')\n",
    "    plt.ylabel('MSE')\n",
    "    plt.title('Training loss')\n",
    "    plt.yscale('log')\n",
    "    plt.legend()\n",
    "    plt.show()\n",
    "\n",
    "    return model\n"
   ]
  },
  {
   "cell_type": "code",
   "execution_count": 54,
   "id": "718d6e14",
   "metadata": {},
   "outputs": [
    {
     "name": "stdout",
     "output_type": "stream",
     "text": [
      "model name: model_3100train_300ep_ANN_Latent\n",
      "cuda\n"
     ]
    }
   ],
   "source": [
    "trainer_info = {'epochs': 300,\n",
    "                'train_size': 3100,\n",
    "                'train_batch': 128,\n",
    "                'test_batch': 256,\n",
    "                'lr0': 3e-4,\n",
    "                'lr_decay': 0.7}\n",
    "\n",
    "note = 'ANN_Latent'\n",
    "\n",
    "print_freq = 300\n",
    "\n",
    "model_name = 'model' + '_' + str(trainer_info['train_size']) + 'train_' + str(trainer_info['epochs']) + 'ep_' + note\n",
    "device = torch.device('cuda' if torch.cuda.is_available() else 'cpu')\n",
    "print('model name: ' + model_name)\n",
    "print(device)"
   ]
  },
  {
   "cell_type": "code",
   "execution_count": 55,
   "id": "ac8ebe6c",
   "metadata": {},
   "outputs": [],
   "source": [
    "class ANN(nn.Module):\n",
    "    \n",
    "  def __init__(self):\n",
    "    super().__init__()\n",
    "\n",
    "    self.fc1=torch.nn.Linear(in_features=512+4,out_features=4096,bias=True)\n",
    "    self.fc2=torch.nn.Linear(in_features=4096,out_features=2048,bias=True)\n",
    "    self.fc3=torch.nn.Linear(in_features=2048,out_features=1024,bias=True)\n",
    "    self.fc4=torch.nn.Linear(in_features=1024,out_features=512,bias=True)\n",
    "    self.fc5=torch.nn.Linear(in_features=512,out_features=256,bias=True)\n",
    "    self.fc6=torch.nn.Linear(in_features=256,out_features=128,bias=True)\n",
    "    self.fc7=torch.nn.Linear(in_features=128,out_features=64,bias=True)\n",
    "    self.fc8=torch.nn.Linear(in_features=64,out_features=32,bias=True)\n",
    "    self.fc9=torch.nn.Linear(in_features=32,out_features=3,bias=True)\n",
    "    #self.actfun=torch.nn.LeakyReLU(negative_slope=0.1)\n",
    "    self.actfun=torch.nn.ReLU()\n",
    "    self.dropout=torch.nn.Dropout(0.3)\n",
    "    self.sigmoid=torch.nn.Sigmoid()\n",
    "\n",
    "  def forward(self,x):\n",
    "    out=self.fc1(x)\n",
    "    #out=self.dropout(out)\n",
    "    out=self.actfun(out)\n",
    "\n",
    "    out=self.fc2(out)\n",
    "    #out=self.dropout(out)\n",
    "    out=self.actfun(out)\n",
    "\n",
    "    out=self.fc3(out)\n",
    "    #out=self.dropout(out)\n",
    "    out=self.actfun(out)\n",
    "\n",
    "    out=self.fc4(out)\n",
    "    out=self.actfun(out)\n",
    "\n",
    "    out=self.fc5(out)\n",
    "    out=self.actfun(out)\n",
    "    \n",
    "    out=self.fc6(out)\n",
    "    out=self.actfun(out)\n",
    "    \n",
    "    out=self.fc7(out)\n",
    "    out=self.actfun(out)\n",
    "    \n",
    "    out=self.fc8(out)\n",
    "    out=self.actfun(out)\n",
    "    \n",
    "    out=self.fc9(out)\n",
    "    out=self.sigmoid(out)\n",
    "\n",
    "    return out\n"
   ]
  },
  {
   "cell_type": "code",
   "execution_count": 56,
   "id": "a2eaa530",
   "metadata": {},
   "outputs": [],
   "source": [
    "def main_program_encoded(inp, out, trainer_info,model_name):\n",
    "\n",
    "    num_sample = trainer_info['train_size']\n",
    "    inp_train = inp[0:num_sample]\n",
    "    out_train = out[0:num_sample]\n",
    "    training_set = MyDataset(inp_train, out_train)\n",
    "\n",
    "    inp_test = inp[num_sample:num_sample+600]\n",
    "    out_test = out[num_sample:num_sample+600]\n",
    "\n",
    "    '''inp_test = inp[0:num_sample, :, :,:]\n",
    "    out_test = out[0:num_sample]'''\n",
    "\n",
    "    test_set = MyDataset(inp_test, out_test)\n",
    "\n",
    "\n",
    "\n",
    "    # create training/test loaders\n",
    "    train_loader = torch.utils.data.DataLoader(dataset=training_set,\n",
    "                                               batch_size=trainer_info['train_batch'],\n",
    "                                               shuffle=True)\n",
    "\n",
    "    test_loader = torch.utils.data.DataLoader(dataset=test_set,\n",
    "                                              batch_size=trainer_info['test_batch'],\n",
    "                                              shuffle=True)\n",
    "\n",
    "\n",
    "    # train the model\n",
    "    model = ANN().to(device)\n",
    "    print(model_name)\n",
    "    print(model)\n",
    "\n",
    "    model = train_NN(model, trainer_info, train_loader, test_loader)\n",
    "    torch.save(model.state_dict(), model_name)\n",
    "\n",
    "    return model"
   ]
  },
  {
   "cell_type": "code",
   "execution_count": 57,
   "id": "079eabff",
   "metadata": {},
   "outputs": [
    {
     "name": "stdout",
     "output_type": "stream",
     "text": [
      "[63042768.77867929 51354252.25300512  7826134.83326148 ...\n",
      "  7152853.23407924   352647.4342427    243162.41025909]\n"
     ]
    }
   ],
   "source": [
    "imgs2=np.load('cnn_rve_masks_part2_rve.npy')\n",
    "matsp=np.load('cnn_mat_props_part2.npy')\n",
    "labels2=np.load('cnn_homogenized_stiffness_part2.npy')\n",
    "\n",
    "print(labels2[:,0])\n",
    "\n",
    "labl2=MinMaxScaler()\n",
    "labels2=labl2.fit_transform(labels2)\n",
    "\n",
    "matp=MinMaxScaler()\n",
    "matsp=matp.fit_transform(matsp)"
   ]
  },
  {
   "cell_type": "code",
   "execution_count": 58,
   "id": "0af40980",
   "metadata": {},
   "outputs": [],
   "source": [
    "In=loadmat('Encoded_image.mat')\n",
    "Y_input_feature=In['Encoded'].astype(np.float32)\n",
    "\n",
    "Y_input_feature=torch.from_numpy(Y_input_feature).to(device)\n",
    "\n",
    "In=loadmat('Labels.mat')\n",
    "labels_tensor2=In['labels'].astype(np.float32)\n",
    "\n",
    "labels_tensor2=torch.from_numpy(labels_tensor2).to(device)\n"
   ]
  },
  {
   "cell_type": "code",
   "execution_count": 43,
   "id": "69cc01b4",
   "metadata": {},
   "outputs": [
    {
     "name": "stdout",
     "output_type": "stream",
     "text": [
      "model_3100train_300ep_ANN_Latent\n",
      "ANN(\n",
      "  (fc1): Linear(in_features=516, out_features=4096, bias=True)\n",
      "  (fc2): Linear(in_features=4096, out_features=2048, bias=True)\n",
      "  (fc3): Linear(in_features=2048, out_features=1024, bias=True)\n",
      "  (fc4): Linear(in_features=1024, out_features=512, bias=True)\n",
      "  (fc5): Linear(in_features=512, out_features=256, bias=True)\n",
      "  (fc6): Linear(in_features=256, out_features=128, bias=True)\n",
      "  (fc7): Linear(in_features=128, out_features=64, bias=True)\n",
      "  (fc8): Linear(in_features=64, out_features=32, bias=True)\n",
      "  (fc9): Linear(in_features=32, out_features=3, bias=True)\n",
      "  (actfun): ReLU()\n",
      "  (dropout): Dropout(p=0.3, inplace=False)\n",
      "  (sigmoid): Sigmoid()\n",
      ")\n",
      "Epoch: [0/300][0/25]\tLR: 0.0003\tTime 0.012 (0.012)\tData 0.002 (0.002)\tLoss 0.2155021 (0.215502)\t\n",
      "Test: [0/3]\tTime 0.006 (0.006)\tLoss 0.0826545 (0.0827)\t\n",
      "Epoch: [25/300][0/25]\tLR: 0.0003\tTime 0.009 (0.009)\tData 0.002 (0.002)\tLoss 0.0009519 (0.000952)\t\n",
      "Test: [0/3]\tTime 0.005 (0.005)\tLoss 0.0005680 (0.0006)\t\n",
      "Epoch: [50/300][0/25]\tLR: 0.00020999999999999998\tTime 0.008 (0.008)\tData 0.002 (0.002)\tLoss 0.0002162 (0.000216)\t\n",
      "Test: [0/3]\tTime 0.005 (0.005)\tLoss 0.0004200 (0.0004)\t\n",
      "Epoch: [75/300][0/25]\tLR: 0.00020999999999999998\tTime 0.008 (0.008)\tData 0.002 (0.002)\tLoss 0.0001860 (0.000186)\t\n",
      "Test: [0/3]\tTime 0.004 (0.004)\tLoss 0.0005072 (0.0005)\t\n",
      "Epoch: [100/300][0/25]\tLR: 0.00014699999999999997\tTime 0.007 (0.007)\tData 0.002 (0.002)\tLoss 0.0003751 (0.000375)\t\n",
      "Test: [0/3]\tTime 0.004 (0.004)\tLoss 0.0002974 (0.0003)\t\n",
      "Epoch: [125/300][0/25]\tLR: 0.00014699999999999997\tTime 0.007 (0.007)\tData 0.002 (0.002)\tLoss 0.0003911 (0.000391)\t\n",
      "Test: [0/3]\tTime 0.005 (0.005)\tLoss 0.0003339 (0.0003)\t\n",
      "Epoch: [150/300][0/25]\tLR: 0.00010289999999999997\tTime 0.007 (0.007)\tData 0.002 (0.002)\tLoss 0.0004659 (0.000466)\t\n",
      "Test: [0/3]\tTime 0.005 (0.005)\tLoss 0.0003053 (0.0003)\t\n",
      "Epoch: [175/300][0/25]\tLR: 0.00010289999999999997\tTime 0.007 (0.007)\tData 0.002 (0.002)\tLoss 0.0002571 (0.000257)\t\n",
      "Test: [0/3]\tTime 0.005 (0.005)\tLoss 0.0002487 (0.0002)\t\n",
      "Epoch: [200/300][0/25]\tLR: 7.202999999999997e-05\tTime 0.007 (0.007)\tData 0.002 (0.002)\tLoss 0.0001786 (0.000179)\t\n",
      "Test: [0/3]\tTime 0.005 (0.005)\tLoss 0.0002894 (0.0003)\t\n",
      "Epoch: [225/300][0/25]\tLR: 7.202999999999997e-05\tTime 0.006 (0.006)\tData 0.002 (0.002)\tLoss 0.0001432 (0.000143)\t\n",
      "Test: [0/3]\tTime 0.003 (0.003)\tLoss 0.0003687 (0.0004)\t\n",
      "Epoch: [250/300][0/25]\tLR: 5.042099999999998e-05\tTime 0.007 (0.007)\tData 0.002 (0.002)\tLoss 0.0001649 (0.000165)\t\n",
      "Test: [0/3]\tTime 0.005 (0.005)\tLoss 0.0002060 (0.0002)\t\n",
      "Epoch: [275/300][0/25]\tLR: 5.042099999999998e-05\tTime 0.007 (0.007)\tData 0.002 (0.002)\tLoss 0.0001353 (0.000135)\t\n",
      "Test: [0/3]\tTime 0.005 (0.005)\tLoss 0.0002830 (0.0003)\t\n"
     ]
    },
    {
     "data": {
      "image/png": "[encoded data removed]",
      "text/plain": [
       "<Figure size 360x252 with 1 Axes>"
      ]
     },
     "metadata": {
      "needs_background": "light"
     },
     "output_type": "display_data"
    }
   ],
   "source": [
    "print_freq = 50\n",
    "\n",
    "#device = torch.device('cuda')\n",
    "model = main_program_encoded(Y_input_feature, labels_tensor2, trainer_info, model_name)"
   ]
  },
  {
   "cell_type": "code",
   "execution_count": 59,
   "id": "a35e3579",
   "metadata": {},
   "outputs": [],
   "source": [
    "best_model_params = torch.load('model_best_ANN.pth.tar', map_location=device)['state_dict']"
   ]
  },
  {
   "cell_type": "code",
   "execution_count": 60,
   "id": "2f631530",
   "metadata": {},
   "outputs": [
    {
     "data": {
      "text/plain": [
       "<All keys matched successfully>"
      ]
     },
     "execution_count": 60,
     "metadata": {},
     "output_type": "execute_result"
    }
   ],
   "source": [
    "model = ANN().to(device)\n",
    "model.load_state_dict(best_model_params)"
   ]
  },
  {
   "cell_type": "code",
   "execution_count": 61,
   "id": "d00d1bc8",
   "metadata": {},
   "outputs": [
    {
     "data": {
      "text/plain": [
       "<matplotlib.legend.Legend at 0x7f4dbe727130>"
      ]
     },
     "execution_count": 61,
     "metadata": {},
     "output_type": "execute_result"
    },
    {
     "data": {
      "image/png": "[encoded data removed]",
      "text/plain": [
       "<Figure size 2304x720 with 3 Axes>"
      ]
     },
     "metadata": {
      "needs_background": "light"
     },
     "output_type": "display_data"
    }
   ],
   "source": [
    "ypred = model(Y_input_feature[3700:4000]).to(device)\n",
    "\n",
    "fig,ax=plt.subplots(1,3,figsize=(32,10))\n",
    "\n",
    "ax[0].scatter(labl2.inverse_transform(ypred.cpu().detach().numpy())[:,0]/(10**9),labl2.inverse_transform(labels_tensor2.cpu().detach().numpy()[3700:4000,:])[:,0]/(10**9),label='$c_{xx}$')\n",
    "ax[0].plot((np.min(labl2.inverse_transform(labels_tensor2.cpu().detach().numpy()[3700:4000,:])[:,0])/(10**9),np.max(labl2.inverse_transform(labels_tensor2.cpu().detach().numpy()[3700:4000,:])[:,0])/(10**9)),(np.min(labl2.inverse_transform(labels_tensor2.cpu().detach().numpy()[3700:4000,:])[:,0])/(10**9),np.max(labl2.inverse_transform(labels_tensor2.cpu().detach().numpy()[3700:4000,:])[:,0])/(10**9)),color='red')\n",
    "ax[0].legend()\n",
    "ax[1].scatter(labl2.inverse_transform(ypred.cpu().detach().numpy())[:,1]/10**6,labl2.inverse_transform(labels_tensor2.cpu().detach().numpy()[3700:4000,:])[:,1]/10**6,label='$c_{xy}$')\n",
    "ax[1].plot((np.min(labl2.inverse_transform(labels_tensor2.cpu().detach().numpy()[3700:4000,:])[:,1])/10**6,np.max(labl2.inverse_transform(labels_tensor2.cpu().detach().numpy()[3700:4000,:])[:,1])/10**6),(np.min(labl2.inverse_transform(labels_tensor2.cpu().detach().numpy()[3700:4000,:])[:,1])/(10**6),np.max(labl2.inverse_transform(labels_tensor2.cpu().detach().numpy()[3700:4000,:])[:,1])/(10**6)),color='red')\n",
    "ax[1].legend()\n",
    "ax[2].scatter(labl2.inverse_transform(ypred.cpu().detach().numpy())[:,2]/(10**9),labl2.inverse_transform(labels_tensor2.cpu().detach().numpy()[3700:4000,:])[:,2]/(10**9),label='$c_{yy}$')\n",
    "ax[2].plot((np.min(labl2.inverse_transform(labels_tensor2.cpu().detach().numpy()[3700:4000,:])[:,2])/(10**9),np.max(labl2.inverse_transform(labels_tensor2.cpu().detach().numpy()[3700:4000,:])[:,2])/(10**9)),(np.min(labl2.inverse_transform(labels_tensor2.cpu().detach().numpy()[3700:4000,:])[:,2])/(10**9),np.max(labl2.inverse_transform(labels_tensor2.cpu().detach().numpy()[3700:4000,:])[:,2])/(10**9)),color='red')\n",
    "ax[2].legend()"
   ]
  },
  {
   "cell_type": "code",
   "execution_count": 83,
   "id": "2c589e37",
   "metadata": {},
   "outputs": [
    {
     "name": "stdout",
     "output_type": "stream",
     "text": [
      "R2 score for cxy is:0.974696\n"
     ]
    }
   ],
   "source": [
    "'''print(ypred.shape)\n",
    "print(labels_tensor2.cpu().detach().numpy()[0:300,:].shape)'''\n",
    "CNN_autoenc=r2_score((ypred.cpu().detach().numpy())[:,1],(labels_tensor2.cpu().detach().numpy()[3700:4000,:])[:,1])\n",
    "print(f'R2 score for cxy is:{CNN_autoenc:0.6f}')"
   ]
  },
  {
   "cell_type": "code",
   "execution_count": 81,
   "id": "75e4b13e",
   "metadata": {},
   "outputs": [
    {
     "name": "stdout",
     "output_type": "stream",
     "text": [
      "Mean absolute relative error for cxy is : 0.359519\n"
     ]
    }
   ],
   "source": [
    "mape=mean_absolute_percentage_error((ypred.cpu().detach().numpy())[:,1], (labels_tensor2.cpu().detach().numpy()[3700:4000,:])[:,1])\n",
    "\n",
    "print(f'Mean absolute relative error for cxy is : {mape:.6f}')"
   ]
  },
  {
   "cell_type": "code",
   "execution_count": null,
   "id": "43816fe9",
   "metadata": {},
   "outputs": [],
   "source": []
  }
 ],
 "metadata": {
  "kernelspec": {
   "display_name": "Python 3 (ipykernel)",
   "language": "python",
   "name": "python3"
  },
  "language_info": {
   "codemirror_mode": {
    "name": "ipython",
    "version": 3
   },
   "file_extension": ".py",
   "mimetype": "text/x-python",
   "name": "python",
   "nbconvert_exporter": "python",
   "pygments_lexer": "ipython3",
   "version": "3.9.5"
  }
 },
 "nbformat": 4,
 "nbformat_minor": 5
}
